{
 "cells": [
  {
   "cell_type": "code",
   "execution_count": 54,
   "metadata": {
    "collapsed": true,
    "deletable": true,
    "editable": true
   },
   "outputs": [],
   "source": [
    "import numpy as np\n",
    "import pandas as pd\n",
    "import statistics\n",
    "import matplotlib.pyplot as plt\n",
    "import scipy\n",
    "%matplotlib inline"
   ]
  },
  {
   "cell_type": "code",
   "execution_count": 42,
   "metadata": {
    "collapsed": false,
    "deletable": true,
    "editable": true
   },
   "outputs": [
    {
     "name": "stdout",
     "output_type": "stream",
     "text": [
      "2.19\n",
      "1.30916003605\n",
      "4.99\n",
      "1.42474559132\n"
     ]
    },
    {
     "data": {
      "image/png": "[encoded data removed]",
      "text/plain": [
       "<matplotlib.figure.Figure at 0x10c341c50>"
      ]
     },
     "metadata": {},
     "output_type": "display_data"
    },
    {
     "name": "stdout",
     "output_type": "stream",
     "text": [
      "15.1234297778\n",
      "Ttest_indResult(statistic=14.398568228409143, pvalue=1.4386651709709905e-32)\n"
     ]
    }
   ],
   "source": [
    "pop1 = np.random.binomial(10, 0.2, 1000)\n",
    "pop2 = np.random.binomial(10, 0.5, 1000)\n",
    "\n",
    "sample1 = np.random.choice(pop1, 100, replace = True)\n",
    "sample2 = np.random.choice(pop2, 100, replace = True)\n",
    "\n",
    "print(sample1.mean())\n",
    "print(sample1.std())\n",
    "print(sample2.mean())\n",
    "print(sample2.std())\n",
    "\n",
    "plt.hist(sample1, alpha = 0.5, label = \"Sample 1\")\n",
    "plt.hist(sample2, alpha = 0.5, label = \"Sample 2\")\n",
    "plt.title(\"Original Samples\")\n",
    "plt.legend(loc = 'upper right')\n",
    "plt.show()\n",
    "\n",
    "diff = sample2.mean() - sample1.mean()\n",
    "\n",
    "size = np.array([len(sample1), len(sample2)])\n",
    "sd = np.array(sample1.std(), sample2.std())\n",
    "diff_se = sum(sd ** 2 / size) ** 0.5\n",
    "t_value = diff/diff_se\n",
    "print(t_value)\n",
    "\n",
    "from scipy.stats import ttest_ind\n",
    "print(ttest_ind(sample2, sample1, equal_var = False))"
   ]
  },
  {
   "cell_type": "code",
   "execution_count": 19,
   "metadata": {
    "collapsed": false,
    "deletable": true,
    "editable": true
   },
   "outputs": [
    {
     "data": {
      "text/plain": [
       "'Problem 1'"
      ]
     },
     "execution_count": 19,
     "metadata": {},
     "output_type": "execute_result"
    }
   ],
   "source": [
    "\"\"\"Problem 1\"\"\""
   ]
  },
  {
   "cell_type": "code",
   "execution_count": 30,
   "metadata": {
    "collapsed": false,
    "deletable": true,
    "editable": true
   },
   "outputs": [
    {
     "name": "stdout",
     "output_type": "stream",
     "text": [
      "1.881\n",
      "1.29183551585\n",
      "5.079\n",
      "1.5423225992\n"
     ]
    },
    {
     "data": {
      "image/png": "[encoded data removed]",
      "text/plain": [
       "<matplotlib.figure.Figure at 0x10a298320>"
      ]
     },
     "metadata": {},
     "output_type": "display_data"
    }
   ],
   "source": [
    "sample3 = np.random.choice(pop1, 1000, replace = True)\n",
    "sample4 = np.random.choice(pop2, 1000, replace = True)\n",
    "sample5 = np.random.choice(pop1, 20, replace = True)\n",
    "sample6 = np.random.choice(pop2, 20, replace = True)\n",
    "\n",
    "print(sample3.mean())\n",
    "print(sample3.std())\n",
    "print(sample4.mean())\n",
    "print(sample4.std())\n",
    "\n",
    "plt.hist(sample3, alpha = 0.5, label = \"Sample 3\")\n",
    "plt.hist(sample4, alpha = 0.5, label = \"Sample 4\")\n",
    "plt.title(\"Larger Samples\")\n",
    "plt.legend(loc = 'upper right')\n",
    "plt.show()"
   ]
  },
  {
   "cell_type": "code",
   "execution_count": 41,
   "metadata": {
    "collapsed": false,
    "deletable": true,
    "editable": true
   },
   "outputs": [
    {
     "name": "stdout",
     "output_type": "stream",
     "text": [
      "1.95\n",
      "1.11691539518\n",
      "5.3\n",
      "1.76351920885\n"
     ]
    },
    {
     "data": {
      "image/png": "[encoded data removed]",
      "text/plain": [
       "<matplotlib.figure.Figure at 0x10a0d7b00>"
      ]
     },
     "metadata": {},
     "output_type": "display_data"
    },
    {
     "name": "stdout",
     "output_type": "stream",
     "text": [
      "Means and Standard Deviations of All the Samples\n",
      "Mean Sample 1: 2.02 (Size = 100)\n",
      "Mean Sample 1+: 1.881 (Size = 1000)\n",
      "Mean Sample 1-: 1.95 (Size = 20)\n",
      "Mean Sample 2: 5.0 (Size = 100)\n",
      "Mean Sample 2+: 5.079 (Size = 1000)\n",
      "Mean Sample 2-: 5.3 (Size = 20)\n",
      "Std Dev Sample 1: 1.24883946126 (Size = 100)\n",
      "Std Dev Sample 1+: 1.29183551585 (Size = 1000)\n",
      "Std Dev Sample 1-: 1.11691539518 (Size = 20)\n",
      "Std Dev Sample 2: 1.58745078664 (Size = 100)\n",
      "Std Dev Sample 2+: 1.5423225992 (Size = 1000)\n",
      "Std Dev Sample 2-: 1.76351920885 (Size = 20)\n"
     ]
    },
    {
     "data": {
      "text/plain": [
       "'As the size of the sample changes, both the mean and standard deviation changes.  The mean for the largest sample size falls between the means for the original (medium-size) and smallest sample sizes.  This occurred for the samples of pop1 and pop2.  The standard deviation changes in a less predictable way.  For pop1, the standard deviation got bigger as the sample size got bigger.  For pop2, the opposite happened.  As the sample size got bigger, the standard deviation got smaller.'"
      ]
     },
     "execution_count": 41,
     "metadata": {},
     "output_type": "execute_result"
    }
   ],
   "source": [
    "print(sample5.mean())\n",
    "print(sample5.std())\n",
    "print(sample6.mean())\n",
    "print(sample6.std())\n",
    "\n",
    "plt.hist(sample5, alpha = 0.5, label = \"Sample 5\")\n",
    "plt.hist(sample6, alpha = 0.5, label = \"Sample 6\")\n",
    "plt.title(\"Smaller Samples\")\n",
    "plt.legend(loc = 'upper right')\n",
    "plt.show()\n",
    "\n",
    "print(\"Means and Standard Deviations of All the Samples\")\n",
    "\n",
    "print(\"Mean Sample 1:\", sample1.mean(), \"(Size = 100)\")\n",
    "print(\"Mean Sample 1+:\", sample3.mean(), \"(Size = 1000)\")\n",
    "print(\"Mean Sample 1-:\", sample5.mean(), \"(Size = 20)\")\n",
    "print(\"Mean Sample 2:\", sample2.mean(), \"(Size = 100)\")\n",
    "print(\"Mean Sample 2+:\", sample4.mean(), \"(Size = 1000)\")\n",
    "print(\"Mean Sample 2-:\", sample6.mean(), \"(Size = 20)\")\n",
    "\n",
    "print(\"Std Dev Sample 1:\", sample1.std(), \"(Size = 100)\")\n",
    "print(\"Std Dev Sample 1+:\", sample3.std(), \"(Size = 1000)\")\n",
    "print(\"Std Dev Sample 1-:\", sample5.std(), \"(Size = 20)\")\n",
    "print(\"Std Dev Sample 2:\", sample2.std(), \"(Size = 100)\")\n",
    "print(\"Std Dev Sample 2+:\", sample4.std(), \"(Size = 1000)\")\n",
    "print(\"Std Dev Sample 2-:\", sample6.std(), \"(Size = 20)\")\n",
    "\n",
    "\"\"\"As the size of the sample changes, both the mean and standard deviation changes.  The mean for the largest sample size falls between the means for the original (medium-size) and smallest sample sizes.  This occurred for the samples of pop1 and pop2.  The standard deviation changes in a less predictable way.  For pop1, the standard deviation got bigger as the sample size got bigger.  For pop2, the opposite happened.  As the sample size got bigger, the standard deviation got smaller.\"\"\""
   ]
  },
  {
   "cell_type": "code",
   "execution_count": 20,
   "metadata": {
    "collapsed": false,
    "deletable": true,
    "editable": true
   },
   "outputs": [
    {
     "data": {
      "text/plain": [
       "'Problem 2'"
      ]
     },
     "execution_count": 20,
     "metadata": {},
     "output_type": "execute_result"
    }
   ],
   "source": [
    "\"\"\"Problem 2\"\"\""
   ]
  },
  {
   "cell_type": "code",
   "execution_count": 14,
   "metadata": {
    "collapsed": false,
    "deletable": true,
    "editable": true
   },
   "outputs": [
    {
     "name": "stdout",
     "output_type": "stream",
     "text": [
      "9.24774644967\n",
      "Ttest_indResult(statistic=8.2653597391258007, pvalue=2.3094417411188088e-14)\n"
     ]
    }
   ],
   "source": [
    "pop1_03 = np.random.binomial(10, 0.3, 1000)\n",
    "pop1_04 = np.random.binomial(10, 0.4, 1000)\n",
    "\n",
    "sample7 = np.random.choice(pop1_03, 100, replace = True)\n",
    "sample8 = np.random.choice(pop1_04, 100, replace = True)\n",
    "diff = sample2.mean() - sample7.mean()\n",
    "\n",
    "size = np.array([len(sample7), len(sample2)])\n",
    "sd = np.array(sample7.std(), sample2.std())\n",
    "diff_se = sum(sd ** 2 / size) ** 0.5\n",
    "t_value = diff/diff_se\n",
    "print(t_value)\n",
    "\n",
    "from scipy.stats import ttest_ind\n",
    "print(ttest_ind(sample2, sample7, equal_var = False))\n"
   ]
  },
  {
   "cell_type": "code",
   "execution_count": 45,
   "metadata": {
    "collapsed": false,
    "deletable": true,
    "editable": true
   },
   "outputs": [
    {
     "name": "stdout",
     "output_type": "stream",
     "text": [
      "14.1151553722\n",
      "Ttest_indResult(statistic=4.6779615390364713, pvalue=5.359866795320314e-06)\n"
     ]
    },
    {
     "data": {
      "text/plain": [
       "'As the value for p for pop1 was increased from 0.2 to 0.3 and then to 0.4, the p-value increased.  This makes sense because the difference between the two samples becomes less meaningful as the populations become more similar.'"
      ]
     },
     "execution_count": 45,
     "metadata": {},
     "output_type": "execute_result"
    }
   ],
   "source": [
    "diff_1 = sample2.mean() - sample8.mean()\n",
    "size = np.array([len(sample8), len(sample2)])\n",
    "sd = np.array(sample8.std(), sample2.std())\n",
    "diff_se = sum(sd ** 2 / size) ** 0.5\n",
    "t_value = diff/diff_se\n",
    "print(t_value)\n",
    "\n",
    "from scipy.stats import ttest_ind\n",
    "print(ttest_ind(sample2, sample8, equal_var = False))\n",
    "\n",
    "\"\"\"As the value for p for pop1 was increased from 0.2 to 0.3 and then to 0.4, the p-value increased.  This makes sense because the difference between the two samples becomes less meaningful as the populations become more similar.\"\"\""
   ]
  },
  {
   "cell_type": "code",
   "execution_count": 21,
   "metadata": {
    "collapsed": false,
    "deletable": true,
    "editable": true
   },
   "outputs": [
    {
     "data": {
      "text/plain": [
       "'Problem 3'"
      ]
     },
     "execution_count": 21,
     "metadata": {},
     "output_type": "execute_result"
    }
   ],
   "source": [
    "\"\"\"Problem 3\"\"\""
   ]
  },
  {
   "cell_type": "code",
   "execution_count": 58,
   "metadata": {
    "collapsed": false,
    "deletable": true,
    "editable": true
   },
   "outputs": [
    {
     "name": "stdout",
     "output_type": "stream",
     "text": [
      "2.07362866572\n",
      "0.671670962832\n",
      "5.36974087602\n",
      "1.52869027224\n"
     ]
    },
    {
     "data": {
      "image/png": "[encoded data removed]",
      "text/plain": [
       "<matplotlib.figure.Figure at 0x10a11e0b8>"
      ]
     },
     "metadata": {},
     "output_type": "display_data"
    }
   ],
   "source": [
    "pop1_gamma = np.random.gamma(10, 0.2, 1000)\n",
    "pop2_gamma = np.random.gamma(10, 0.5, 1000)\n",
    "\n",
    "sample9 = np.random.choice(pop1_gamma, 100, replace = True)\n",
    "sample10 = np.random.choice(pop2_gamma, 100, replace = True)\n",
    "\n",
    "print(sample9.mean())\n",
    "print(sample9.std())\n",
    "print(sample10.mean())\n",
    "print(sample10.std())\n",
    "\n",
    "plt.hist(sample9, alpha = 0.5, label = \"Sample 9\")\n",
    "plt.axvline(sample9.mean(), color = 'b', linestyle = \"solid\", linewidth = 2)\n",
    "plt.hist(sample10, alpha = 0.5, label = \"Sample 10\")\n",
    "plt.axvline(sample10.mean(), color ='g', linestyle = 'solid', linewidth = 2)\n",
    "plt.title(\"Gamma Graph\")\n",
    "plt.legend(loc = 'upper right')\n",
    "plt.show()\n"
   ]
  },
  {
   "cell_type": "code",
   "execution_count": 60,
   "metadata": {
    "collapsed": false,
    "deletable": true,
    "editable": true
   },
   "outputs": [
    {
     "data": {
      "text/plain": [
       "'It appears that the mean still fairly accurately represents the population values.  The data clusters around the means, and they roughly bisect the distributions.'"
      ]
     },
     "execution_count": 60,
     "metadata": {},
     "output_type": "execute_result"
    }
   ],
   "source": [
    "\"\"\"It appears that the mean still fairly accurately represents the population values.  The data clusters around the means, and they roughly bisect the distributions.\"\"\""
   ]
  },
  {
   "cell_type": "code",
   "execution_count": null,
   "metadata": {
    "collapsed": true
   },
   "outputs": [],
   "source": []
  }
 ],
 "metadata": {
  "kernelspec": {
   "display_name": "Python 3",
   "language": "python",
   "name": "python3"
  },
  "language_info": {
   "codemirror_mode": {
    "name": "ipython",
    "version": 3
   },
   "file_extension": ".py",
   "mimetype": "text/x-python",
   "name": "python",
   "nbconvert_exporter": "python",
   "pygments_lexer": "ipython3",
   "version": "3.6.0"
  }
 },
 "nbformat": 4,
 "nbformat_minor": 2
}
